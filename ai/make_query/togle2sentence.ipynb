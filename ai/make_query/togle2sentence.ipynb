{
  "nbformat": 4,
  "nbformat_minor": 0,
  "metadata": {
    "colab": {
      "provenance": []
    },
    "kernelspec": {
      "name": "python3",
      "display_name": "Python 3"
    },
    "language_info": {
      "name": "python"
    }
  },
  "cells": [
    {
      "cell_type": "markdown",
      "source": [
        "### Query 작성"
      ],
      "metadata": {
        "id": "wzp5zPzq8n_z"
      }
    },
    {
      "cell_type": "markdown",
      "source": [
        "- gender_and_age = man, woman, boy, girl\n",
        "- hair = long hair, short hair  # 턱선 위로는 짧은 머리, 아래로는 긴 머리\n",
        "- top_color = red, orange, yellow, green, khaki, light blue, blue, dark blue, purple, pink, maroon, white, beige, black, brown\n",
        "- top_type = short sleeve shirt, long sleeve shirt, coat, winter coat\n",
        "- bottom_color = red, orange, yellow, green, khaki, light blue, blue, dark blue, purple, pink, maroon, white, beige, black, brown\n",
        "- bottom type = short pants, long pants, skirt  (dress도 skirt로 처리)\n",
        "- bag = backpack, bag"
      ],
      "metadata": {
        "id": "ApyDrpUjXHor"
      }
    },
    {
      "cell_type": "code",
      "source": [
        "# ===== 토글 선택지 구현\n",
        "togleList = [\n",
        "    [\"man\", \"woman\", \"boy\", \"girl\"],\n",
        "     [\"long hair\", \"short hair\"],\n",
        "      [\"none\", \"red\", \"orange\", \"yellow\", \"green\", \"khaki\", \"light blue\", \"blue\", \"dark blue\", \"purple\", \"pink\", \"maroon\", \"white\", \"beige\", \"black\", \"brown\"],\n",
        "       [\"none\", \"short sleeve shirt\", \"long sleeve shirt\", \"coat\", \"winter coat\"],\n",
        "        [\"none\", \"red\", \"orange\", \"yellow\", \"green\", \"khaki\", \"light blue\", \"blue\", \"dark blue\", \"purple\", \"pink\", \"maroon\", \"white\", \"beige\", \"black\", \"brown\"],\n",
        "         [\"none\", \"short pants\", \"long pants\", \"skirt\"],\n",
        "          [\"none\", \"backpack\", \"bag\"]\n",
        "    ]"
      ],
      "metadata": {
        "id": "9TPiABosCYgi"
      },
      "execution_count": 79,
      "outputs": []
    },
    {
      "cell_type": "code",
      "source": [
        "togleSelect = [1, 1, 5, 4, 8, 1, 0]"
      ],
      "metadata": {
        "id": "NuXcgv-gE5Fk"
      },
      "execution_count": 80,
      "outputs": []
    },
    {
      "cell_type": "code",
      "source": [
        "selected = []\n",
        "\n",
        "for i in range(len(togleList)):\n",
        "    selected_value = togleList[i][togleSelect[i]]\n",
        "    selected.append(selected_value)\n",
        "\n",
        "gender_and_age, hair, top_color, top_type, bottom_color, bottom_type, bag = selected\n",
        "query = \"\""
      ],
      "metadata": {
        "id": "qtzBkD6tFiBf"
      },
      "execution_count": 81,
      "outputs": []
    },
    {
      "cell_type": "code",
      "source": [
        "if gender_and_age == \"man\" or gender_and_age == \"boy\":\n",
        "    gender = \"He\"\n",
        "else:\n",
        "    gender = \"She\""
      ],
      "metadata": {
        "id": "W4Ze6yBv6zrw"
      },
      "execution_count": 82,
      "outputs": []
    },
    {
      "cell_type": "code",
      "source": [
        "# 상하의 인상착의 정보가 전혀 존재하지 않는 경우는 해당 부분에 대한 쿼리 작성을 생략, 예외처리 진행하였습니다.\n",
        "if top_type == \"none\" and bottom_type == \"none\":\n",
        "    raise ValueError(\"인상착의 정보가 존재하지 않습니다.\")\n",
        "\n",
        "\n",
        "# 상하의 색상 정보 없는 경우\n",
        "elif top_color == \"none\" and bottom_color == \"none\":\n",
        "    if bottom_type == \"skirt\":\n",
        "        query = f\"A {gender_and_age} wearing a {top_type} and a {bottom_type}. \"\n",
        "    else:\n",
        "        query = f\"A {gender_and_age} wearing a {top_type} and {bottom_type}. \"\n",
        "\n",
        "\n",
        "# 상하의 정보 중 단 하나를 알고 있으며, 색상 정보를 제외하고 종류만 알고 있는 경우\n",
        "elif top_color == \"none\" and bottom_type == \"none\":\n",
        "    query = f\"A {gender_and_age} wearing a {top_type}. \"\n",
        "\n",
        "elif bottom_color == \"none\" and top_type == \"none\":\n",
        "    if bottom_type == \"skirt\":\n",
        "        query = f\"A {gender_and_age} wearing a {bottom_type}. \"\n",
        "    else:\n",
        "        query = f\"A {gender_and_age} wearing {bottom_type}. \"\n",
        "\n",
        "\n",
        "# 상하의 정보 중 하나의 색상 정보만 누락된 경우\n",
        "elif top_color == \"none\":\n",
        "    if bottom_type == \"skirt\":\n",
        "        query = f\"A {gender_and_age} wearing a {top_type} and a {bottom_color} {bottom_type}. \"\n",
        "    else:\n",
        "        query = f\"A {gender_and_age} wearing a {top_type} and {bottom_color} {bottom_type}. \"\n",
        "\n",
        "elif bottom_color == \"none\":\n",
        "    if bottom_type == \"skirt\":\n",
        "        query = f\"A {gender_and_age} wearing a {top_color} {top_type} and a {bottom_type}. \"\n",
        "    else:\n",
        "        query = f\"A {gender_and_age} wearing a {top_color} {top_type} and {bottom_type}. \"\n",
        "\n",
        "\n",
        "# 상하의 정보 중 하나의 종류 정보가 누락된 경우\n",
        "elif top_type == \"none\":\n",
        "    if bottom_type == \"skirt\":\n",
        "        query = f\"A {gender_and_age} wearing a {bottom_color} {bottom_type}. \"\n",
        "    else:\n",
        "        query = f\"A {gender_and_age} wearing {bottom_color} {bottom_type}. \"\n",
        "\n",
        "elif bottom_type == \"none\":\n",
        "    query = f\"A {gender_and_age} wearing a {top_color} {top_type}. \"\n",
        "\n",
        "# 모든 정보가 포함된 경우\n",
        "else:\n",
        "    if bottom_type == \"skirt\":\n",
        "        query = f\"A {gender_and_age} wearing a {top_color} {top_type} and a {bottom_color} {bottom_type}. \"\n",
        "    else:\n",
        "        query = f\"A {gender_and_age} wearing a {top_color} {top_type} and {bottom_color} {bottom_type}. \""
      ],
      "metadata": {
        "id": "zTeL5qgyGIke"
      },
      "execution_count": 83,
      "outputs": []
    },
    {
      "cell_type": "code",
      "execution_count": 84,
      "metadata": {
        "id": "mQXJ2Zuj29vT"
      },
      "outputs": [],
      "source": [
        "# 손에 드는 건 carrying이 미세하게 더 나은 결과를 보임 (holding ↔ carrying)\n",
        "if bag == \"backpack\":\n",
        "    query += f\"{gender} has {hair}. {gender} is carrying a {bag}.\"\n",
        "elif bag == \"bag\":\n",
        "    query += f\"{gender} has {hair}. {gender} is holding a {bag}.\"\n",
        "elif bag == \"none\":\n",
        "    query += f\"{gender} has {hair}.\""
      ]
    },
    {
      "cell_type": "code",
      "source": [
        "print(query)"
      ],
      "metadata": {
        "colab": {
          "base_uri": "https://localhost:8080/"
        },
        "id": "6hQ-QjF_5Fxs",
        "outputId": "b9676212-2a8d-4994-b49b-fb904e588a42"
      },
      "execution_count": 85,
      "outputs": [
        {
          "output_type": "stream",
          "name": "stdout",
          "text": [
            "A woman wearing a khaki winter coat and dark blue short pants. She has short hair.\n"
          ]
        }
      ]
    },
    {
      "cell_type": "markdown",
      "source": [
        "### 번역"
      ],
      "metadata": {
        "id": "te_w8pn_8q4Z"
      }
    },
    {
      "cell_type": "code",
      "source": [
        "!pip install openai"
      ],
      "metadata": {
        "colab": {
          "base_uri": "https://localhost:8080/"
        },
        "id": "rC_G2wWr7_bm",
        "outputId": "5e792d66-0aeb-4846-92a9-93ee30de5e52"
      },
      "execution_count": 86,
      "outputs": [
        {
          "output_type": "stream",
          "name": "stdout",
          "text": [
            "Requirement already satisfied: openai in /usr/local/lib/python3.10/dist-packages (1.28.1)\n",
            "Requirement already satisfied: anyio<5,>=3.5.0 in /usr/local/lib/python3.10/dist-packages (from openai) (3.7.1)\n",
            "Requirement already satisfied: distro<2,>=1.7.0 in /usr/lib/python3/dist-packages (from openai) (1.7.0)\n",
            "Requirement already satisfied: httpx<1,>=0.23.0 in /usr/local/lib/python3.10/dist-packages (from openai) (0.27.0)\n",
            "Requirement already satisfied: pydantic<3,>=1.9.0 in /usr/local/lib/python3.10/dist-packages (from openai) (2.7.1)\n",
            "Requirement already satisfied: sniffio in /usr/local/lib/python3.10/dist-packages (from openai) (1.3.1)\n",
            "Requirement already satisfied: tqdm>4 in /usr/local/lib/python3.10/dist-packages (from openai) (4.66.4)\n",
            "Requirement already satisfied: typing-extensions<5,>=4.7 in /usr/local/lib/python3.10/dist-packages (from openai) (4.11.0)\n",
            "Requirement already satisfied: idna>=2.8 in /usr/local/lib/python3.10/dist-packages (from anyio<5,>=3.5.0->openai) (3.7)\n",
            "Requirement already satisfied: exceptiongroup in /usr/local/lib/python3.10/dist-packages (from anyio<5,>=3.5.0->openai) (1.2.1)\n",
            "Requirement already satisfied: certifi in /usr/local/lib/python3.10/dist-packages (from httpx<1,>=0.23.0->openai) (2024.2.2)\n",
            "Requirement already satisfied: httpcore==1.* in /usr/local/lib/python3.10/dist-packages (from httpx<1,>=0.23.0->openai) (1.0.5)\n",
            "Requirement already satisfied: h11<0.15,>=0.13 in /usr/local/lib/python3.10/dist-packages (from httpcore==1.*->httpx<1,>=0.23.0->openai) (0.14.0)\n",
            "Requirement already satisfied: annotated-types>=0.4.0 in /usr/local/lib/python3.10/dist-packages (from pydantic<3,>=1.9.0->openai) (0.6.0)\n",
            "Requirement already satisfied: pydantic-core==2.18.2 in /usr/local/lib/python3.10/dist-packages (from pydantic<3,>=1.9.0->openai) (2.18.2)\n"
          ]
        }
      ]
    },
    {
      "cell_type": "code",
      "source": [
        "import openai\n",
        "\n",
        "OPENAI_API_KEY = \"\"  # openAI-API 키를 넣으세요\n",
        "openai.api_key = OPENAI_API_KEY\n",
        "\n",
        "def translate_english_to_korean(text):\n",
        "    response = openai.chat.completions.create(\n",
        "    model = \"gpt-3.5-turbo\",\n",
        "    presence_penalty = 0.9,\n",
        "    messages = [\n",
        "            {\"role\": \"system\", \"content\": \"\"\"\n",
        "            You are a translator.\n",
        "            I will provide you with the information of the character's description in English, so please translate this information into Korean correctly.\n",
        "\n",
        "            An example is as follows.\n",
        "\n",
        "            Case 1.\n",
        "            Input sentence: A woman wearing a blue long sleeve shirt and white short pants. She has long hair. She is holding a bag.\n",
        "            Desired Translation: 긴 머리. 파란색 긴팔 셔츠와 흰 반바지를 입고, 가방을 들고 있음.\n",
        "\n",
        "            Case 2.\n",
        "            Input sentence: A boy wearing a maroon long sleeve shirt and black long pants. He has long hair.\n",
        "            Desired Translation: 긴 머리. 자주색 긴팔 셔츠와 검정 긴 바지를 입고 있음.\n",
        "\n",
        "            Case 3.\n",
        "            Input sentence: A girl wearing a red long sleeve shirt and a dark blue skirt. She has short hair. She is carrying a backpack.\n",
        "            Desired Translation: 짧은 머리. 빨간 긴팔 셔츠와 남색 치마를 입고, 가방을 메고 있음.\n",
        "\n",
        "            Case 4.\n",
        "            Input sentence: A man wearing a orange winter coat and blue long pants. He has short hair. He is carrying a backpack.\n",
        "            Desired Translation: 짧은 머리. 주황색 패딩과 파란색 긴 바지를 입고, 가방을 메고 있음.\n",
        "\n",
        "            Case 5.\n",
        "            Input sentence: A girl wearing a purple short sleeve shirt and pink short pants. She has short hair. She is holding a backpack.\n",
        "            Desired Translation: 짧은 머리. 보라색 반팔 셔츠와 핑크색 반바지를 입고, 가방을 들고 있음.\n",
        "\n",
        "            Case 6.\n",
        "            Input sentence: A man wearing a coat and long pants. He has short hair.\n",
        "            Desired Translation: 짧은 머리. 코트와 긴 바지를 입고 있음.\n",
        "\n",
        "            Case 7.\n",
        "            Input sentence: A boy wearing a winter coat. He has long hair. He is carrying a backpack.\n",
        "            Desired Translation: 긴 머리. 패딩을 입고, 가방을 메고 있음.\n",
        "\n",
        "            Case 8.\n",
        "            Input sentence: A woman wearing a skirt. She has short hair. She is holding a backpack.\n",
        "            Desired Translation: 짧은 머리. 치마를 입고, 가방을 들고 있음.\n",
        "\n",
        "            Case 9.\n",
        "            Input sentence: A man wearing a coat and khaki short pants. He has long hair.\n",
        "            Desired Translation: 긴 머리. 코트와 카키색 반바지를 입고 있음.\n",
        "\n",
        "            Case 10.\n",
        "            Input sentence: A girl wearing a light blue winter coat and a skirt. She has short hair. \"\n",
        "            Desired Translation: 짧은 머리. 하늘색 패딩과 치마를 입고 있음.\n",
        "\n",
        "            Case 11.\n",
        "            Input sentence: A boy wearing dark blue short pants. He has short hair.\n",
        "            Desired Translation: 짧은 머리. 남색 반바지를 입고 있음.\n",
        "\n",
        "            Case 12.\n",
        "            Input sentence: A woman wearing a beige coat. She has short hair. She is holding a backpack.\"\n",
        "            Desired Translation: 짧은 머리. 베이지색 코트를 입고, 가방을 들고 있음.\n",
        "\n",
        "            Please respond to every sentence simply.\n",
        "            \"\"\"},\n",
        "            {\"role\": \"user\", \"content\": text},\n",
        "    ]\n",
        "    )\n",
        "\n",
        "    return response.choices[0].message.content"
      ],
      "metadata": {
        "id": "YyvXhvf6Dlhf"
      },
      "execution_count": 87,
      "outputs": []
    },
    {
      "cell_type": "code",
      "source": [
        "english_text = query\n",
        "korean_text = translate_english_to_korean(english_text)\n",
        "print(\"Eng query: \", english_text)\n",
        "print(\"Kor query: \", korean_text)"
      ],
      "metadata": {
        "id": "fjQE0nYrGB72",
        "colab": {
          "base_uri": "https://localhost:8080/"
        },
        "outputId": "82670ce7-119f-4abb-d838-30119784ad54"
      },
      "execution_count": 88,
      "outputs": [
        {
          "output_type": "stream",
          "name": "stdout",
          "text": [
            "Eng query:  A woman wearing a khaki winter coat and dark blue short pants. She has short hair.\n",
            "Kor query:  짧은 머리. 카키색 패딩과 남색 반바지를 입고 있음.\n"
          ]
        }
      ]
    },
    {
      "cell_type": "code",
      "source": [],
      "metadata": {
        "id": "CUvZ-fOPyfmc"
      },
      "execution_count": 88,
      "outputs": []
    }
  ]
}