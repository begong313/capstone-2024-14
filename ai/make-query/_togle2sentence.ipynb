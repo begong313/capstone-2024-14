{
  "nbformat": 4,
  "nbformat_minor": 0,
  "metadata": {
    "colab": {
      "provenance": []
    },
    "kernelspec": {
      "name": "python3",
      "display_name": "Python 3"
    },
    "language_info": {
      "name": "python"
    }
  },
  "cells": [
    {
      "cell_type": "markdown",
      "source": [
        "### Query 작성"
      ],
      "metadata": {
        "id": "wzp5zPzq8n_z"
      }
    },
    {
      "cell_type": "code",
      "source": [
        "togle = [\"boy\", \"black\", \"short hair\", \"dark colored\", \"short sleeve shirt\", \"dark colored\", \"short pants\"]\n",
        "gender_and_age, hair_color, hair, top_color, top_type, bottom_color, bottom_type = togle\n",
        "bag = \"backpack\""
      ],
      "metadata": {
        "id": "tDIzj7kQ4O6y"
      },
      "execution_count": 17,
      "outputs": []
    },
    {
      "cell_type": "code",
      "source": [
        "if gender_and_age == \"man\" or gender_and_age == \"boy\":\n",
        "    gender = \"He\"\n",
        "else:\n",
        "    gender = \"She\""
      ],
      "metadata": {
        "id": "W4Ze6yBv6zrw"
      },
      "execution_count": 18,
      "outputs": []
    },
    {
      "cell_type": "code",
      "source": [
        "query = \"\""
      ],
      "metadata": {
        "id": "AW5WdAbw6w6b"
      },
      "execution_count": 19,
      "outputs": []
    },
    {
      "cell_type": "code",
      "source": [
        "# pants의 경우 a pair of {color} pants와 그냥 {color} pants 중 어떤 게 성능이 더 나을지 확인해봐야 할 듯\n",
        "# 만약 후자가 더 성능이 잘 나오면 여기서 굳이 경우를 나누지 않아도 됨\n",
        "if bottom_type == \"skirt\":\n",
        "    query += f\"A {gender_and_age} wearing a {top_color} {top_type} and a {bottom_color} {bottom_type}. \"\n",
        "else:\n",
        "    query += f\"A {gender_and_age} wearing a {top_color} {top_type} and a pair of {bottom_color} {bottom_type}. \""
      ],
      "metadata": {
        "id": "k7eWq7nQ5bPV"
      },
      "execution_count": 20,
      "outputs": []
    },
    {
      "cell_type": "code",
      "execution_count": 21,
      "metadata": {
        "id": "mQXJ2Zuj29vT"
      },
      "outputs": [],
      "source": [
        "# 가방을 손에 쥔 거랑 등에 맨 거? 이렇게 나눠도 좋을 듯 (holding ↔ carrying)\n",
        "if bag == \"backpack\":\n",
        "    query += f\"{gender} has {hair_color} {hair}. {gender} is carrying a {bag}.\"\n",
        "elif bag == \"bag\":\n",
        "    query += f\"{gender} has {hair_color} {hair}. {gender} is holding a {bag}.\"\n",
        "else:\n",
        "    query += f\"{gender} has {hair_color} {hair}.\""
      ]
    },
    {
      "cell_type": "code",
      "source": [
        "print(query)"
      ],
      "metadata": {
        "colab": {
          "base_uri": "https://localhost:8080/"
        },
        "id": "6hQ-QjF_5Fxs",
        "outputId": "39b61a39-2d53-4db1-b177-14b75a432b7c"
      },
      "execution_count": 22,
      "outputs": [
        {
          "output_type": "stream",
          "name": "stdout",
          "text": [
            "A boy wearing a dark colored short sleeve shirt and a pair of dark colored short pants. He has black short hair. He is carrying a backpack.\n"
          ]
        }
      ]
    },
    {
      "cell_type": "markdown",
      "source": [
        "### 번역"
      ],
      "metadata": {
        "id": "te_w8pn_8q4Z"
      }
    },
    {
      "cell_type": "code",
      "source": [
        "!pip install openai"
      ],
      "metadata": {
        "colab": {
          "base_uri": "https://localhost:8080/"
        },
        "id": "rC_G2wWr7_bm",
        "outputId": "07716562-6069-4439-d4ed-b8985848fd10"
      },
      "execution_count": 23,
      "outputs": [
        {
          "output_type": "stream",
          "name": "stdout",
          "text": [
            "Requirement already satisfied: openai in /usr/local/lib/python3.10/dist-packages (1.17.0)\n",
            "Requirement already satisfied: anyio<5,>=3.5.0 in /usr/local/lib/python3.10/dist-packages (from openai) (3.7.1)\n",
            "Requirement already satisfied: distro<2,>=1.7.0 in /usr/lib/python3/dist-packages (from openai) (1.7.0)\n",
            "Requirement already satisfied: httpx<1,>=0.23.0 in /usr/local/lib/python3.10/dist-packages (from openai) (0.27.0)\n",
            "Requirement already satisfied: pydantic<3,>=1.9.0 in /usr/local/lib/python3.10/dist-packages (from openai) (2.6.4)\n",
            "Requirement already satisfied: sniffio in /usr/local/lib/python3.10/dist-packages (from openai) (1.3.1)\n",
            "Requirement already satisfied: tqdm>4 in /usr/local/lib/python3.10/dist-packages (from openai) (4.66.2)\n",
            "Requirement already satisfied: typing-extensions<5,>=4.7 in /usr/local/lib/python3.10/dist-packages (from openai) (4.11.0)\n",
            "Requirement already satisfied: idna>=2.8 in /usr/local/lib/python3.10/dist-packages (from anyio<5,>=3.5.0->openai) (3.6)\n",
            "Requirement already satisfied: exceptiongroup in /usr/local/lib/python3.10/dist-packages (from anyio<5,>=3.5.0->openai) (1.2.0)\n",
            "Requirement already satisfied: certifi in /usr/local/lib/python3.10/dist-packages (from httpx<1,>=0.23.0->openai) (2024.2.2)\n",
            "Requirement already satisfied: httpcore==1.* in /usr/local/lib/python3.10/dist-packages (from httpx<1,>=0.23.0->openai) (1.0.5)\n",
            "Requirement already satisfied: h11<0.15,>=0.13 in /usr/local/lib/python3.10/dist-packages (from httpcore==1.*->httpx<1,>=0.23.0->openai) (0.14.0)\n",
            "Requirement already satisfied: annotated-types>=0.4.0 in /usr/local/lib/python3.10/dist-packages (from pydantic<3,>=1.9.0->openai) (0.6.0)\n",
            "Requirement already satisfied: pydantic-core==2.16.3 in /usr/local/lib/python3.10/dist-packages (from pydantic<3,>=1.9.0->openai) (2.16.3)\n"
          ]
        }
      ]
    },
    {
      "cell_type": "code",
      "source": [
        "import openai\n",
        "\n",
        "OPENAI_API_KEY = \"\"  # openAI-API 키를 넣으세요\n",
        "openai.api_key = OPENAI_API_KEY\n",
        "\n",
        "def translate_english_to_korean(text):\n",
        "    response = openai.chat.completions.create(\n",
        "    model = \"gpt-3.5-turbo\",\n",
        "    presence_penalty = 0.9,\n",
        "    messages = [\n",
        "            {\"role\": \"system\", \"content\": \"\"\"\n",
        "            You are a translator.\n",
        "            I will provide you with the information of the character's description in English, so please translate this information into Korean correctly.\n",
        "\n",
        "            An example is as follows.\n",
        "\n",
        "            Case 1.\n",
        "            Input sentence: A woman wearing a blue long sleeve shirt and a pair of white short pants. She has long hair. He is holding a bag.\n",
        "            Desired Translation: 긴 머리. 파란색 긴팔 셔츠와 흰 반바지를 입고, 가방을 들고 있음.\n",
        "\n",
        "            Case 2.\n",
        "            Input sentence: A boy wearing a black long sleeve shirt and a pair of black long pants. He has long hair.\n",
        "            Desired Translation: 긴 머리. 검정 긴팔 셔츠와 검정 긴 바지를 입고 있음.\n",
        "\n",
        "            Case 3.\n",
        "            Input sentence: A girl wearing a red long sleeve shirt and a white skirt. She has short hair. She is carrying a backpack.\n",
        "            Desired Translation: 짧은 머리. 빨간 긴팔 셔츠와 흰 치마를 입고, 가방을 메고 있음.\n",
        "\n",
        "            Case 4.\n",
        "            Input sentence: A man wearing a dark colored short sleeve shirt and a pair of light colored long pants. He has white short hair. He is carrying a backpack.\n",
        "            Desired Translation: 짧은 흰 머리. 어두운 반팔 셔츠와 밝은 긴 바지를 입고, 가방을 메고 있음.\n",
        "\n",
        "            Case 5.\n",
        "            Input sentence: A boy wearing a light colored short sleeve shirt and a pair of light colored short pants. He has blond short hair. He is holding a backpack.\n",
        "            Desired Translation: 짧은 금발 머리. 밝은 반팔 셔츠와 반바지를 입고, 가방을 들고 있음.\n",
        "\n",
        "            Please respond to every sentence simply.\n",
        "            \"\"\"},\n",
        "            {\"role\": \"user\", \"content\": text},\n",
        "    ]\n",
        "    )\n",
        "\n",
        "    return response.choices[0].message.content\n",
        "\n",
        "english_text = query\n",
        "korean_text = translate_english_to_korean(english_text)\n",
        "print(\"Eng query: \", english_text)\n",
        "print(\"Kor query: \", korean_text)"
      ],
      "metadata": {
        "colab": {
          "base_uri": "https://localhost:8080/"
        },
        "id": "YyvXhvf6Dlhf",
        "outputId": "f585197a-2054-4acc-cda9-625a85003245"
      },
      "execution_count": 31,
      "outputs": [
        {
          "output_type": "stream",
          "name": "stdout",
          "text": [
            "Eng query:  A boy wearing a dark colored short sleeve shirt and a pair of dark colored short pants. He has black short hair. He is carrying a backpack.\n",
            "Kor query:  짧은 검은 머리. 어두운 반팔 셔츠와 반바지를 입고, 가방을 들고 있음.\n"
          ]
        }
      ]
    },
    {
      "cell_type": "code",
      "source": [],
      "metadata": {
        "id": "fjQE0nYrGB72"
      },
      "execution_count": 27,
      "outputs": []
    }
  ]
}